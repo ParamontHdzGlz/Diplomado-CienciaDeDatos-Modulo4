{
 "cells": [
  {
   "cell_type": "code",
   "execution_count": 1,
   "id": "interesting-bridal",
   "metadata": {},
   "outputs": [
    {
     "data": {
      "text/html": [
       "        <script type=\"text/javascript\">\n",
       "        window.PlotlyConfig = {MathJaxConfig: 'local'};\n",
       "        if (window.MathJax) {MathJax.Hub.Config({SVG: {font: \"STIX-Web\"}});}\n",
       "        if (typeof require !== 'undefined') {\n",
       "        require.undef(\"plotly\");\n",
       "        requirejs.config({\n",
       "            paths: {\n",
       "                'plotly': ['https://cdn.plot.ly/plotly-latest.min']\n",
       "            }\n",
       "        });\n",
       "        require(['plotly'], function(Plotly) {\n",
       "            window._Plotly = Plotly;\n",
       "        });\n",
       "        }\n",
       "        </script>\n",
       "        "
      ]
     },
     "metadata": {},
     "output_type": "display_data"
    }
   ],
   "source": [
    "from glob import glob                                                           \n",
    "from PIL import Image\n",
    "from pathlib import Path\n",
    "import os \n",
    "import cv2\n",
    "import numpy as np \n",
    "import random\n",
    "import re\n",
    "\n",
    "import shutil\n",
    "import pandas as pd\n",
    "import errno\n",
    "\n",
    "from sklearn.model_selection import train_test_split\n",
    "from numpy import array\n",
    "\n",
    "# Data Visualization\n",
    "import cufflinks as cf\n",
    "import matplotlib.pyplot as plt\n",
    "import seaborn as sns\n",
    "import matplotlib.image as mpimg\n",
    "\n",
    "# Configuración del notebook\n",
    "cf.go_offline()"
   ]
  },
  {
   "cell_type": "markdown",
   "id": "forbidden-arrival",
   "metadata": {},
   "source": [
    "## Data Wrangling"
   ]
  },
  {
   "cell_type": "markdown",
   "id": "ultimate-trail",
   "metadata": {},
   "source": [
    "### Manejando imagenes"
   ]
  },
  {
   "cell_type": "code",
   "execution_count": 2,
   "id": "vocal-romance",
   "metadata": {},
   "outputs": [],
   "source": [
    "imag_dir = './data/images/train'"
   ]
  },
  {
   "cell_type": "code",
   "execution_count": 3,
   "id": "unknown-madness",
   "metadata": {},
   "outputs": [],
   "source": [
    "#obteniendo etiquetas\n",
    "df = pd.read_csv('./data/metadata.csv')"
   ]
  },
  {
   "cell_type": "code",
   "execution_count": 4,
   "id": "optional-recording",
   "metadata": {},
   "outputs": [],
   "source": [
    "#borrando los registros con precio 0 (validation)\n",
    "#df.drop(df[df['price']==0].index, inplace=True)"
   ]
  },
  {
   "cell_type": "markdown",
   "id": "included-planner",
   "metadata": {},
   "source": [
    "### Creando Dataframe con etiquetas"
   ]
  },
  {
   "cell_type": "code",
   "execution_count": 5,
   "id": "incorporated-greenhouse",
   "metadata": {},
   "outputs": [],
   "source": [
    "labbel_df = pd.DataFrame(os.listdir('./data/images/train'),columns=['file'])"
   ]
  },
  {
   "cell_type": "code",
   "execution_count": 6,
   "id": "controversial-hollow",
   "metadata": {},
   "outputs": [],
   "source": [
    "labbel_df['id'] = [name.split('_')[0] for name in labbel_df['file'].values]"
   ]
  },
  {
   "cell_type": "code",
   "execution_count": 7,
   "id": "military-paintball",
   "metadata": {},
   "outputs": [],
   "source": [
    "labbel_df['price'] = [df.loc[[int(id)-1]]['price'].values[0] for id in labbel_df['id'].values]"
   ]
  },
  {
   "cell_type": "code",
   "execution_count": 8,
   "id": "civil-consent",
   "metadata": {},
   "outputs": [
    {
     "data": {
      "text/html": [
       "<div>\n",
       "<style scoped>\n",
       "    .dataframe tbody tr th:only-of-type {\n",
       "        vertical-align: middle;\n",
       "    }\n",
       "\n",
       "    .dataframe tbody tr th {\n",
       "        vertical-align: top;\n",
       "    }\n",
       "\n",
       "    .dataframe thead th {\n",
       "        text-align: right;\n",
       "    }\n",
       "</style>\n",
       "<table border=\"1\" class=\"dataframe\">\n",
       "  <thead>\n",
       "    <tr style=\"text-align: right;\">\n",
       "      <th></th>\n",
       "      <th>file</th>\n",
       "      <th>id</th>\n",
       "      <th>price</th>\n",
       "    </tr>\n",
       "  </thead>\n",
       "  <tbody>\n",
       "    <tr>\n",
       "      <th>0</th>\n",
       "      <td>102_bathroom.jpg</td>\n",
       "      <td>102</td>\n",
       "      <td>769000</td>\n",
       "    </tr>\n",
       "    <tr>\n",
       "      <th>1</th>\n",
       "      <td>428_kitchen.jpg</td>\n",
       "      <td>428</td>\n",
       "      <td>559000</td>\n",
       "    </tr>\n",
       "    <tr>\n",
       "      <th>2</th>\n",
       "      <td>498_kitchen.jpg</td>\n",
       "      <td>498</td>\n",
       "      <td>585000</td>\n",
       "    </tr>\n",
       "    <tr>\n",
       "      <th>3</th>\n",
       "      <td>162_kitchen.jpg</td>\n",
       "      <td>162</td>\n",
       "      <td>164000</td>\n",
       "    </tr>\n",
       "    <tr>\n",
       "      <th>4</th>\n",
       "      <td>531_bathroom.jpg</td>\n",
       "      <td>531</td>\n",
       "      <td>399900</td>\n",
       "    </tr>\n",
       "  </tbody>\n",
       "</table>\n",
       "</div>"
      ],
      "text/plain": [
       "               file   id   price\n",
       "0  102_bathroom.jpg  102  769000\n",
       "1   428_kitchen.jpg  428  559000\n",
       "2   498_kitchen.jpg  498  585000\n",
       "3   162_kitchen.jpg  162  164000\n",
       "4  531_bathroom.jpg  531  399900"
      ]
     },
     "execution_count": 8,
     "metadata": {},
     "output_type": "execute_result"
    }
   ],
   "source": [
    "labbel_df.head()"
   ]
  },
  {
   "cell_type": "markdown",
   "id": "organizational-recipe",
   "metadata": {},
   "source": [
    "### Separando test del train"
   ]
  },
  {
   "cell_type": "code",
   "execution_count": 9,
   "id": "hollywood-institute",
   "metadata": {},
   "outputs": [],
   "source": [
    "#escogiendo test (20%)\n",
    "labbels = np.unique(labbel_df['id'])\n",
    "no_registers = len(labbels)\n",
    "random.seed(0)\n",
    "test_id = random.sample(list(labbels),no_registers//5)"
   ]
  },
  {
   "cell_type": "code",
   "execution_count": 10,
   "id": "weighted-liability",
   "metadata": {},
   "outputs": [],
   "source": [
    "test_labbels = labbel_df[labbel_df['id'].isin(test_id)].sort_values('id')\n",
    "train_labbels = labbel_df[~labbel_df['id'].isin(test_id)].sort_values('id')"
   ]
  },
  {
   "cell_type": "code",
   "execution_count": 11,
   "id": "broad-receptor",
   "metadata": {},
   "outputs": [
    {
     "data": {
      "text/html": [
       "<div>\n",
       "<style scoped>\n",
       "    .dataframe tbody tr th:only-of-type {\n",
       "        vertical-align: middle;\n",
       "    }\n",
       "\n",
       "    .dataframe tbody tr th {\n",
       "        vertical-align: top;\n",
       "    }\n",
       "\n",
       "    .dataframe thead th {\n",
       "        text-align: right;\n",
       "    }\n",
       "</style>\n",
       "<table border=\"1\" class=\"dataframe\">\n",
       "  <thead>\n",
       "    <tr style=\"text-align: right;\">\n",
       "      <th></th>\n",
       "      <th>file</th>\n",
       "      <th>id</th>\n",
       "      <th>price</th>\n",
       "    </tr>\n",
       "  </thead>\n",
       "  <tbody>\n",
       "    <tr>\n",
       "      <th>573</th>\n",
       "      <td>10_kitchen.jpg</td>\n",
       "      <td>10</td>\n",
       "      <td>1500000</td>\n",
       "    </tr>\n",
       "    <tr>\n",
       "      <th>171</th>\n",
       "      <td>10_frontal.jpg</td>\n",
       "      <td>10</td>\n",
       "      <td>1500000</td>\n",
       "    </tr>\n",
       "    <tr>\n",
       "      <th>1908</th>\n",
       "      <td>10_bedroom.jpg</td>\n",
       "      <td>10</td>\n",
       "      <td>1500000</td>\n",
       "    </tr>\n",
       "    <tr>\n",
       "      <th>354</th>\n",
       "      <td>10_bathroom.jpg</td>\n",
       "      <td>10</td>\n",
       "      <td>1500000</td>\n",
       "    </tr>\n",
       "    <tr>\n",
       "      <th>1810</th>\n",
       "      <td>100_frontal.jpg</td>\n",
       "      <td>100</td>\n",
       "      <td>679000</td>\n",
       "    </tr>\n",
       "    <tr>\n",
       "      <th>...</th>\n",
       "      <td>...</td>\n",
       "      <td>...</td>\n",
       "      <td>...</td>\n",
       "    </tr>\n",
       "    <tr>\n",
       "      <th>288</th>\n",
       "      <td>96_frontal.jpg</td>\n",
       "      <td>96</td>\n",
       "      <td>521500</td>\n",
       "    </tr>\n",
       "    <tr>\n",
       "      <th>1052</th>\n",
       "      <td>99_bathroom.jpg</td>\n",
       "      <td>99</td>\n",
       "      <td>629000</td>\n",
       "    </tr>\n",
       "    <tr>\n",
       "      <th>1742</th>\n",
       "      <td>99_kitchen.jpg</td>\n",
       "      <td>99</td>\n",
       "      <td>629000</td>\n",
       "    </tr>\n",
       "    <tr>\n",
       "      <th>672</th>\n",
       "      <td>99_frontal.jpg</td>\n",
       "      <td>99</td>\n",
       "      <td>629000</td>\n",
       "    </tr>\n",
       "    <tr>\n",
       "      <th>2019</th>\n",
       "      <td>99_bedroom.jpg</td>\n",
       "      <td>99</td>\n",
       "      <td>629000</td>\n",
       "    </tr>\n",
       "  </tbody>\n",
       "</table>\n",
       "<p>1712 rows × 3 columns</p>\n",
       "</div>"
      ],
      "text/plain": [
       "                 file   id    price\n",
       "573    10_kitchen.jpg   10  1500000\n",
       "171    10_frontal.jpg   10  1500000\n",
       "1908   10_bedroom.jpg   10  1500000\n",
       "354   10_bathroom.jpg   10  1500000\n",
       "1810  100_frontal.jpg  100   679000\n",
       "...               ...  ...      ...\n",
       "288    96_frontal.jpg   96   521500\n",
       "1052  99_bathroom.jpg   99   629000\n",
       "1742   99_kitchen.jpg   99   629000\n",
       "672    99_frontal.jpg   99   629000\n",
       "2019   99_bedroom.jpg   99   629000\n",
       "\n",
       "[1712 rows x 3 columns]"
      ]
     },
     "execution_count": 11,
     "metadata": {},
     "output_type": "execute_result"
    }
   ],
   "source": [
    "train_labbels"
   ]
  },
  {
   "cell_type": "markdown",
   "id": "electoral-tours",
   "metadata": {},
   "source": [
    "#### moviendo imagenes de test a train"
   ]
  },
  {
   "cell_type": "code",
   "execution_count": 12,
   "id": "lyric-vancouver",
   "metadata": {},
   "outputs": [],
   "source": [
    "def move_image(imag,old,new):\n",
    "    try:\n",
    "        shutil.copy(os.path.join(old+\"/\"+imag), os.path.join(new+\"/\"+imag))\n",
    "    except OSError as e:\n",
    "        if e.errno != errno.ENOENT:\n",
    "            raise"
   ]
  },
  {
   "cell_type": "code",
   "execution_count": 13,
   "id": "heard-artist",
   "metadata": {},
   "outputs": [],
   "source": [
    "#Creando carpetas de train y tests\n",
    "if not os.path.exists('./data/images/test'):\n",
    "    os.mkdir('./data/images/test')"
   ]
  },
  {
   "cell_type": "code",
   "execution_count": 14,
   "id": "helpful-permit",
   "metadata": {},
   "outputs": [],
   "source": [
    "for file in test_labbels['file'].values:\n",
    "    new = './data/images/test'\n",
    "    move_image(file,imag_dir,new)"
   ]
  },
  {
   "cell_type": "markdown",
   "id": "underlying-fields",
   "metadata": {},
   "source": [
    "#### moviendo a cada tipo de imagen"
   ]
  },
  {
   "cell_type": "code",
   "execution_count": 15,
   "id": "postal-things",
   "metadata": {},
   "outputs": [],
   "source": [
    "image_type = ['bathroom','bedroom','frontal','kitchen']"
   ]
  },
  {
   "cell_type": "code",
   "execution_count": 16,
   "id": "destroyed-beginning",
   "metadata": {},
   "outputs": [],
   "source": [
    "#creando folders para train\n",
    "for type in image_type:\n",
    "    if not os.path.exists(f'./data/images/train/{type}'):\n",
    "        os.mkdir(f'./data/images/train/{type}')"
   ]
  },
  {
   "cell_type": "code",
   "execution_count": 20,
   "id": "constant-sequence",
   "metadata": {},
   "outputs": [],
   "source": [
    "#para train\n",
    "for type in image_type:\n",
    "    for file in train_labbels['file'].values:\n",
    "        if type in file:\n",
    "            new = f'./data/images/train/{type}'\n",
    "            move_image(file,imag_dir,new)"
   ]
  },
  {
   "cell_type": "code",
   "execution_count": 21,
   "id": "swedish-banking",
   "metadata": {},
   "outputs": [],
   "source": [
    "#creando folders para test\n",
    "for type in image_type:\n",
    "    if not os.path.exists(f'./data/images/test/{type}'):\n",
    "        os.mkdir(f'./data/images/test/{type}')"
   ]
  },
  {
   "cell_type": "code",
   "execution_count": 22,
   "id": "meaningful-gnome",
   "metadata": {},
   "outputs": [],
   "source": [
    "#para test\n",
    "for type in image_type:\n",
    "    for file in train_labbels['file'].values:\n",
    "        if type in file:\n",
    "            new = f'./data/images/test/{type}'\n",
    "            move_image(file,'./data/images/test/',new)"
   ]
  }
 ],
 "metadata": {
  "kernelspec": {
   "display_name": "Python 3",
   "language": "python",
   "name": "python3"
  },
  "language_info": {
   "codemirror_mode": {
    "name": "ipython",
    "version": 3
   },
   "file_extension": ".py",
   "mimetype": "text/x-python",
   "name": "python",
   "nbconvert_exporter": "python",
   "pygments_lexer": "ipython3",
   "version": "3.8.10"
  },
  "varInspector": {
   "cols": {
    "lenName": 16,
    "lenType": 16,
    "lenVar": 40
   },
   "kernels_config": {
    "python": {
     "delete_cmd_postfix": "",
     "delete_cmd_prefix": "del ",
     "library": "var_list.py",
     "varRefreshCmd": "print(var_dic_list())"
    },
    "r": {
     "delete_cmd_postfix": ") ",
     "delete_cmd_prefix": "rm(",
     "library": "var_list.r",
     "varRefreshCmd": "cat(var_dic_list()) "
    }
   },
   "types_to_exclude": [
    "module",
    "function",
    "builtin_function_or_method",
    "instance",
    "_Feature"
   ],
   "window_display": false
  }
 },
 "nbformat": 4,
 "nbformat_minor": 5
}
