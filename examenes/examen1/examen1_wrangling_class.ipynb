{
 "cells": [
  {
   "cell_type": "code",
   "execution_count": null,
   "id": "muslim-anniversary",
   "metadata": {},
   "outputs": [],
   "source": []
  },
  {
   "cell_type": "code",
   "execution_count": 31,
   "id": "specified-submission",
   "metadata": {},
   "outputs": [
    {
     "data": {
      "text/html": [
       "        <script type=\"text/javascript\">\n",
       "        window.PlotlyConfig = {MathJaxConfig: 'local'};\n",
       "        if (window.MathJax) {MathJax.Hub.Config({SVG: {font: \"STIX-Web\"}});}\n",
       "        if (typeof require !== 'undefined') {\n",
       "        require.undef(\"plotly\");\n",
       "        requirejs.config({\n",
       "            paths: {\n",
       "                'plotly': ['https://cdn.plot.ly/plotly-latest.min']\n",
       "            }\n",
       "        });\n",
       "        require(['plotly'], function(Plotly) {\n",
       "            window._Plotly = Plotly;\n",
       "        });\n",
       "        }\n",
       "        </script>\n",
       "        "
      ]
     },
     "metadata": {},
     "output_type": "display_data"
    }
   ],
   "source": [
    "from glob import glob                                                           \n",
    "from PIL import Image\n",
    "from pathlib import Path\n",
    "import os \n",
    "import cv2\n",
    "import numpy as np \n",
    "import random\n",
    "import re\n",
    "\n",
    "import shutil\n",
    "import pandas as pd\n",
    "import errno\n",
    "\n",
    "from sklearn.model_selection import train_test_split\n",
    "from numpy import array\n",
    "\n",
    "# Data Visualization\n",
    "import cufflinks as cf\n",
    "import matplotlib.pyplot as plt\n",
    "import seaborn as sns\n",
    "import matplotlib.image as mpimg\n",
    "\n",
    "# Configuración del notebook\n",
    "cf.go_offline()"
   ]
  },
  {
   "cell_type": "markdown",
   "id": "forbidden-arrival",
   "metadata": {},
   "source": [
    "## Data Wrangling"
   ]
  },
  {
   "cell_type": "markdown",
   "id": "ultimate-trail",
   "metadata": {},
   "source": [
    "### Manejando imagenes"
   ]
  },
  {
   "cell_type": "code",
   "execution_count": 32,
   "id": "forward-branch",
   "metadata": {},
   "outputs": [],
   "source": [
    "train_dir = './data/images/train'"
   ]
  },
  {
   "cell_type": "code",
   "execution_count": 33,
   "id": "scheduled-lover",
   "metadata": {},
   "outputs": [],
   "source": [
    "#obteniendo etiquetas"
   ]
  },
  {
   "cell_type": "code",
   "execution_count": 34,
   "id": "preliminary-aerospace",
   "metadata": {},
   "outputs": [],
   "source": [
    "df = pd.read_csv('./data/metadata.csv')"
   ]
  },
  {
   "cell_type": "code",
   "execution_count": 35,
   "id": "personalized-curve",
   "metadata": {},
   "outputs": [],
   "source": [
    "#borrando los registros con precio 0 (validation)\n",
    "df.drop(df[df['price']==0].index, inplace=True)"
   ]
  },
  {
   "cell_type": "markdown",
   "id": "completed-ultimate",
   "metadata": {},
   "source": [
    "### Preparando carpetas\n",
    "A pesar de que éste es en realidad un problema de regresión, lo trataremos como de clasificación para aprovechar las facilidades del image generator."
   ]
  },
  {
   "cell_type": "code",
   "execution_count": 36,
   "id": "impaired-frame",
   "metadata": {},
   "outputs": [],
   "source": [
    "def create_folders(ruta,carpetas):\n",
    "    \n",
    "    try:\n",
    "        os.mkdir(ruta)\n",
    "    except OSError as e:\n",
    "        if e.errno != errno.EEXIST:\n",
    "            raise\n",
    "    \n",
    "    for x in carpetas:\n",
    "        try:\n",
    "            os.mkdir(ruta+\"/\"+x)\n",
    "        except OSError as e:\n",
    "            if e.errno != errno.EEXIST:\n",
    "                raise"
   ]
  },
  {
   "cell_type": "code",
   "execution_count": 37,
   "id": "designed-reminder",
   "metadata": {},
   "outputs": [],
   "source": [
    "prices = np.unique(df['price'].astype(str))[1:]#No se toma en cuenta a los valores de 0"
   ]
  },
  {
   "cell_type": "code",
   "execution_count": 38,
   "id": "greek-event",
   "metadata": {},
   "outputs": [],
   "source": [
    "create_folders(train_dir,prices)"
   ]
  },
  {
   "cell_type": "code",
   "execution_count": 49,
   "id": "successful-million",
   "metadata": {},
   "outputs": [],
   "source": [
    "def move_images(imag,old,new):\n",
    "    try:\n",
    "        shutil.copy(os.path.join(old+\"/\"+imag), os.path.join(new+\"/\"+imag))\n",
    "    except OSError as e:\n",
    "        if e.errno != errno.ENOENT:\n",
    "            raise"
   ]
  },
  {
   "cell_type": "code",
   "execution_count": 44,
   "id": "approximate-handbook",
   "metadata": {},
   "outputs": [],
   "source": [
    "image_type = ['bathroom','bedroom','frontal','kitchen']"
   ]
  },
  {
   "cell_type": "code",
   "execution_count": 56,
   "id": "ready-dover",
   "metadata": {},
   "outputs": [],
   "source": [
    "for index, price in np.array(df.reset_index()[['index','price']]):\n",
    "    for type in image_type:\n",
    "        new = os.path.join(train_dir+'/'+str(price))\n",
    "        imag = str(index+1)+'_'+type+'.jpg'\n",
    "        #print(imag,new)\n",
    "        move_images(imag,train_dir,new)"
   ]
  },
  {
   "cell_type": "code",
   "execution_count": 57,
   "id": "opposed-respondent",
   "metadata": {},
   "outputs": [
    {
     "data": {
      "text/html": [
       "<div>\n",
       "<style scoped>\n",
       "    .dataframe tbody tr th:only-of-type {\n",
       "        vertical-align: middle;\n",
       "    }\n",
       "\n",
       "    .dataframe tbody tr th {\n",
       "        vertical-align: top;\n",
       "    }\n",
       "\n",
       "    .dataframe thead th {\n",
       "        text-align: right;\n",
       "    }\n",
       "</style>\n",
       "<table border=\"1\" class=\"dataframe\">\n",
       "  <thead>\n",
       "    <tr style=\"text-align: right;\">\n",
       "      <th></th>\n",
       "      <th>n_rooms</th>\n",
       "      <th>n_bathrooms</th>\n",
       "      <th>area</th>\n",
       "      <th>zipcode</th>\n",
       "      <th>price</th>\n",
       "    </tr>\n",
       "  </thead>\n",
       "  <tbody>\n",
       "    <tr>\n",
       "      <th>0</th>\n",
       "      <td>4</td>\n",
       "      <td>4.0</td>\n",
       "      <td>4053</td>\n",
       "      <td>85255</td>\n",
       "      <td>869500</td>\n",
       "    </tr>\n",
       "    <tr>\n",
       "      <th>1</th>\n",
       "      <td>4</td>\n",
       "      <td>3.0</td>\n",
       "      <td>3343</td>\n",
       "      <td>36372</td>\n",
       "      <td>865200</td>\n",
       "    </tr>\n",
       "    <tr>\n",
       "      <th>2</th>\n",
       "      <td>3</td>\n",
       "      <td>4.0</td>\n",
       "      <td>3923</td>\n",
       "      <td>85266</td>\n",
       "      <td>889000</td>\n",
       "    </tr>\n",
       "    <tr>\n",
       "      <th>3</th>\n",
       "      <td>5</td>\n",
       "      <td>5.0</td>\n",
       "      <td>4022</td>\n",
       "      <td>85262</td>\n",
       "      <td>910000</td>\n",
       "    </tr>\n",
       "    <tr>\n",
       "      <th>4</th>\n",
       "      <td>3</td>\n",
       "      <td>4.0</td>\n",
       "      <td>4116</td>\n",
       "      <td>85266</td>\n",
       "      <td>971226</td>\n",
       "    </tr>\n",
       "    <tr>\n",
       "      <th>...</th>\n",
       "      <td>...</td>\n",
       "      <td>...</td>\n",
       "      <td>...</td>\n",
       "      <td>...</td>\n",
       "      <td>...</td>\n",
       "    </tr>\n",
       "    <tr>\n",
       "      <th>530</th>\n",
       "      <td>5</td>\n",
       "      <td>2.0</td>\n",
       "      <td>2066</td>\n",
       "      <td>94531</td>\n",
       "      <td>399900</td>\n",
       "    </tr>\n",
       "    <tr>\n",
       "      <th>531</th>\n",
       "      <td>4</td>\n",
       "      <td>3.5</td>\n",
       "      <td>9536</td>\n",
       "      <td>94531</td>\n",
       "      <td>460000</td>\n",
       "    </tr>\n",
       "    <tr>\n",
       "      <th>532</th>\n",
       "      <td>3</td>\n",
       "      <td>2.0</td>\n",
       "      <td>2014</td>\n",
       "      <td>94531</td>\n",
       "      <td>407000</td>\n",
       "    </tr>\n",
       "    <tr>\n",
       "      <th>533</th>\n",
       "      <td>4</td>\n",
       "      <td>3.0</td>\n",
       "      <td>2312</td>\n",
       "      <td>94531</td>\n",
       "      <td>419000</td>\n",
       "    </tr>\n",
       "    <tr>\n",
       "      <th>534</th>\n",
       "      <td>5</td>\n",
       "      <td>3.0</td>\n",
       "      <td>3796</td>\n",
       "      <td>94531</td>\n",
       "      <td>615000</td>\n",
       "    </tr>\n",
       "  </tbody>\n",
       "</table>\n",
       "<p>523 rows × 5 columns</p>\n",
       "</div>"
      ],
      "text/plain": [
       "     n_rooms  n_bathrooms  area  zipcode   price\n",
       "0          4          4.0  4053    85255  869500\n",
       "1          4          3.0  3343    36372  865200\n",
       "2          3          4.0  3923    85266  889000\n",
       "3          5          5.0  4022    85262  910000\n",
       "4          3          4.0  4116    85266  971226\n",
       "..       ...          ...   ...      ...     ...\n",
       "530        5          2.0  2066    94531  399900\n",
       "531        4          3.5  9536    94531  460000\n",
       "532        3          2.0  2014    94531  407000\n",
       "533        4          3.0  2312    94531  419000\n",
       "534        5          3.0  3796    94531  615000\n",
       "\n",
       "[523 rows x 5 columns]"
      ]
     },
     "execution_count": 57,
     "metadata": {},
     "output_type": "execute_result"
    }
   ],
   "source": [
    "df\n"
   ]
  },
  {
   "cell_type": "code",
   "execution_count": null,
   "id": "surrounded-reception",
   "metadata": {},
   "outputs": [],
   "source": []
  }
 ],
 "metadata": {
  "kernelspec": {
   "display_name": "Python 3",
   "language": "python",
   "name": "python3"
  },
  "language_info": {
   "codemirror_mode": {
    "name": "ipython",
    "version": 3
   },
   "file_extension": ".py",
   "mimetype": "text/x-python",
   "name": "python",
   "nbconvert_exporter": "python",
   "pygments_lexer": "ipython3",
   "version": "3.8.10"
  },
  "varInspector": {
   "cols": {
    "lenName": 16,
    "lenType": 16,
    "lenVar": 40
   },
   "kernels_config": {
    "python": {
     "delete_cmd_postfix": "",
     "delete_cmd_prefix": "del ",
     "library": "var_list.py",
     "varRefreshCmd": "print(var_dic_list())"
    },
    "r": {
     "delete_cmd_postfix": ") ",
     "delete_cmd_prefix": "rm(",
     "library": "var_list.r",
     "varRefreshCmd": "cat(var_dic_list()) "
    }
   },
   "types_to_exclude": [
    "module",
    "function",
    "builtin_function_or_method",
    "instance",
    "_Feature"
   ],
   "window_display": false
  }
 },
 "nbformat": 4,
 "nbformat_minor": 5
}
